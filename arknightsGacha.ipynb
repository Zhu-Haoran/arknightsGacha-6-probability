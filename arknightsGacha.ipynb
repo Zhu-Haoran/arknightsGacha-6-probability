{
 "cells": [
  {
   "cell_type": "code",
   "execution_count": 1,
   "id": "indonesian-mineral",
   "metadata": {},
   "outputs": [],
   "source": [
    "import random\n",
    "import numpy as np"
   ]
  },
  {
   "cell_type": "code",
   "execution_count": 2,
   "id": "retained-girlfriend",
   "metadata": {},
   "outputs": [],
   "source": [
    "def drawCard(maxDraw):\n",
    "    op6, rateUp1, rateUp2 = 0, 0, 0\n",
    "    result = []\n",
    "    zc = 0\n",
    "    bonus = 0\n",
    "    for i in range(maxDraw):\n",
    "        r = random.random()\n",
    "        rate = 0.02 + bonus\n",
    "        if r<= rate:\n",
    "            zc = 0\n",
    "            bonus = 0\n",
    "            op6 +=1\n",
    "            if r<= (rate*0.25):\n",
    "                rateUp1 += 1\n",
    "            if r> (rate*0.25) and r <= (rate*0.5):\n",
    "                rateUp2 += 1\n",
    "        else:\n",
    "            zc += 1\n",
    "            if zc >= 50:\n",
    "                bonus += 0.02\n",
    "        result.append([i+1,op6,rateUp1,rateUp2])\n",
    "    return result"
   ]
  },
  {
   "cell_type": "code",
   "execution_count": 3,
   "id": "meaningful-default",
   "metadata": {},
   "outputs": [],
   "source": [
    "def averageRate(maxDraw, times):\n",
    "    averageResult = []\n",
    "    tt = []\n",
    "    #tt = numpy.array([0,0,0,0])\n",
    "    for i in range(times):\n",
    "        result = drawCard(maxDraw)\n",
    "        for r in result:\n",
    "            tt += r\n",
    "    tta = np.array(tt).reshape((times*maxDraw),4)\n",
    "#     print(tta)\n",
    "#     print(tta.shape)\n",
    "    n = 0\n",
    "    result = np.zeros((maxDraw,4))\n",
    "    for i in range(maxDraw):\n",
    "        #print ((tta[(np.where(tta[:,0]==i+1))]).tolist())\n",
    "        li = (tta[(np.where(tta[:,0]==i+1))]).tolist()\n",
    "        temp = np.array([0,0,0,0])\n",
    "        \n",
    "        for n in li:\n",
    "            temp += np.array(n)\n",
    "        result[i] = temp/times\n",
    "    return result"
   ]
  },
  {
   "cell_type": "code",
   "execution_count": 4,
   "id": "neutral-supervision",
   "metadata": {},
   "outputs": [
    {
     "name": "stdin",
     "output_type": "stream",
     "text": [
      "Max draw: 10\n",
      "Repeat times: 10\n"
     ]
    },
    {
     "name": "stdout",
     "output_type": "stream",
     "text": [
      "[[ 1.   0.1  0.1  0. ]\n",
      " [ 2.   0.1  0.1  0. ]\n",
      " [ 3.   0.1  0.1  0. ]\n",
      " [ 4.   0.1  0.1  0. ]\n",
      " [ 5.   0.1  0.1  0. ]\n",
      " [ 6.   0.3  0.3  0. ]\n",
      " [ 7.   0.3  0.3  0. ]\n",
      " [ 8.   0.3  0.3  0. ]\n",
      " [ 9.   0.3  0.3  0. ]\n",
      " [10.   0.3  0.3  0. ]]\n"
     ]
    }
   ],
   "source": [
    "maxDraw = int(input('Max draw:'))\n",
    "times = int(input('Repeat times:'))\n",
    "print (averageRate(maxDraw, times))"
   ]
  },
  {
   "cell_type": "code",
   "execution_count": 5,
   "id": "agricultural-pilot",
   "metadata": {},
   "outputs": [
    {
     "name": "stdout",
     "output_type": "stream",
     "text": [
      "[[1.00000e+00 1.96500e-02 4.66000e-03 4.97000e-03]\n",
      " [2.00000e+00 3.90100e-02 9.08000e-03 9.93000e-03]\n",
      " [3.00000e+00 5.91800e-02 1.41400e-02 1.52100e-02]\n",
      " [4.00000e+00 7.94300e-02 1.87900e-02 2.06100e-02]\n",
      " [5.00000e+00 9.93800e-02 2.38900e-02 2.55300e-02]\n",
      " [6.00000e+00 1.19180e-01 2.88400e-02 3.06000e-02]\n",
      " [7.00000e+00 1.39590e-01 3.38400e-02 3.57900e-02]\n",
      " [8.00000e+00 1.59350e-01 3.89100e-02 4.06500e-02]\n",
      " [9.00000e+00 1.79420e-01 4.41200e-02 4.55100e-02]\n",
      " [1.00000e+01 1.99190e-01 4.88200e-02 5.03800e-02]\n",
      " [1.10000e+01 2.18770e-01 5.37500e-02 5.52500e-02]\n",
      " [1.20000e+01 2.38880e-01 5.90500e-02 6.04600e-02]\n",
      " [1.30000e+01 2.60210e-01 6.42700e-02 6.59400e-02]\n",
      " [1.40000e+01 2.80500e-01 6.94900e-02 7.10400e-02]\n",
      " [1.50000e+01 3.00240e-01 7.43000e-02 7.58800e-02]\n",
      " [1.60000e+01 3.19710e-01 7.90500e-02 8.07300e-02]\n",
      " [1.70000e+01 3.39380e-01 8.38900e-02 8.59000e-02]\n",
      " [1.80000e+01 3.59390e-01 8.89500e-02 9.12800e-02]\n",
      " [1.90000e+01 3.78790e-01 9.39100e-02 9.60900e-02]\n",
      " [2.00000e+01 3.98230e-01 9.89200e-02 1.00750e-01]\n",
      " [2.10000e+01 4.17910e-01 1.03870e-01 1.05420e-01]\n",
      " [2.20000e+01 4.37960e-01 1.08410e-01 1.10530e-01]\n",
      " [2.30000e+01 4.59000e-01 1.13430e-01 1.16140e-01]\n",
      " [2.40000e+01 4.79040e-01 1.18230e-01 1.21320e-01]\n",
      " [2.50000e+01 4.98980e-01 1.23610e-01 1.26120e-01]\n",
      " [2.60000e+01 5.19340e-01 1.28600e-01 1.31560e-01]\n",
      " [2.70000e+01 5.39340e-01 1.33630e-01 1.36470e-01]\n",
      " [2.80000e+01 5.59900e-01 1.38740e-01 1.41570e-01]\n",
      " [2.90000e+01 5.80380e-01 1.44000e-01 1.46250e-01]\n",
      " [3.00000e+01 5.99930e-01 1.49080e-01 1.51150e-01]\n",
      " [3.10000e+01 6.20380e-01 1.54420e-01 1.56140e-01]\n",
      " [3.20000e+01 6.39790e-01 1.59090e-01 1.60920e-01]\n",
      " [3.30000e+01 6.59790e-01 1.64690e-01 1.65990e-01]\n",
      " [3.40000e+01 6.80010e-01 1.69730e-01 1.71500e-01]\n",
      " [3.50000e+01 7.00040e-01 1.74790e-01 1.76480e-01]\n",
      " [3.60000e+01 7.19760e-01 1.80090e-01 1.80930e-01]\n",
      " [3.70000e+01 7.39370e-01 1.85350e-01 1.85650e-01]\n",
      " [3.80000e+01 7.59480e-01 1.90270e-01 1.90900e-01]\n",
      " [3.90000e+01 7.79550e-01 1.95210e-01 1.95510e-01]\n",
      " [4.00000e+01 7.99770e-01 2.00010e-01 2.00500e-01]\n",
      " [4.10000e+01 8.20620e-01 2.05310e-01 2.05740e-01]\n",
      " [4.20000e+01 8.40150e-01 2.10340e-01 2.10500e-01]\n",
      " [4.30000e+01 8.60540e-01 2.15320e-01 2.15830e-01]\n",
      " [4.40000e+01 8.80190e-01 2.20340e-01 2.20760e-01]\n",
      " [4.50000e+01 8.99970e-01 2.25350e-01 2.25910e-01]\n",
      " [4.60000e+01 9.19850e-01 2.30320e-01 2.30720e-01]\n",
      " [4.70000e+01 9.40050e-01 2.35410e-01 2.35890e-01]\n",
      " [4.80000e+01 9.60740e-01 2.40330e-01 2.41080e-01]\n",
      " [4.90000e+01 9.80770e-01 2.45370e-01 2.46140e-01]\n",
      " [5.00000e+01 1.00052e+00 2.50090e-01 2.51080e-01]\n",
      " [5.10000e+01 1.02829e+00 2.56660e-01 2.58090e-01]\n",
      " [5.20000e+01 1.06177e+00 2.65360e-01 2.66440e-01]\n",
      " [5.30000e+01 1.10181e+00 2.75140e-01 2.76630e-01]\n",
      " [5.40000e+01 1.14688e+00 2.86660e-01 2.87770e-01]\n",
      " [5.50000e+01 1.19580e+00 2.98830e-01 3.00300e-01]\n",
      " [5.60000e+01 1.24734e+00 3.11660e-01 3.13110e-01]\n",
      " [5.70000e+01 1.29803e+00 3.24550e-01 3.25430e-01]\n",
      " [5.80000e+01 1.34942e+00 3.36800e-01 3.38660e-01]\n",
      " [5.90000e+01 1.39924e+00 3.49490e-01 3.51090e-01]\n",
      " [6.00000e+01 1.44538e+00 3.61120e-01 3.62160e-01]\n",
      " [6.10000e+01 1.48947e+00 3.71890e-01 3.73100e-01]\n",
      " [6.20000e+01 1.52982e+00 3.82200e-01 3.82800e-01]\n",
      " [6.30000e+01 1.56729e+00 3.91070e-01 3.92680e-01]\n",
      " [6.40000e+01 1.60241e+00 4.00010e-01 4.01410e-01]\n",
      " [6.50000e+01 1.63536e+00 4.08530e-01 4.09510e-01]\n",
      " [6.60000e+01 1.66582e+00 4.16210e-01 4.17160e-01]\n",
      " [6.70000e+01 1.69567e+00 4.24030e-01 4.24450e-01]\n",
      " [6.80000e+01 1.72398e+00 4.31240e-01 4.31420e-01]\n",
      " [6.90000e+01 1.75220e+00 4.38160e-01 4.39020e-01]\n",
      " [7.00000e+01 1.77911e+00 4.44610e-01 4.45750e-01]\n",
      " [7.10000e+01 1.80405e+00 4.51540e-01 4.51540e-01]\n",
      " [7.20000e+01 1.83000e+00 4.57640e-01 4.58110e-01]\n",
      " [7.30000e+01 1.85667e+00 4.63930e-01 4.64920e-01]\n",
      " [7.40000e+01 1.88309e+00 4.70640e-01 4.71620e-01]\n",
      " [7.50000e+01 1.90938e+00 4.77190e-01 4.78420e-01]\n",
      " [7.60000e+01 1.93548e+00 4.83940e-01 4.84950e-01]\n",
      " [7.70000e+01 1.96073e+00 4.90510e-01 4.91050e-01]\n",
      " [7.80000e+01 1.98693e+00 4.97240e-01 4.97600e-01]\n",
      " [7.90000e+01 2.01241e+00 5.03760e-01 5.03870e-01]\n",
      " [8.00000e+01 2.03876e+00 5.10310e-01 5.10620e-01]\n",
      " [8.10000e+01 2.06400e+00 5.16510e-01 5.17060e-01]\n",
      " [8.20000e+01 2.08968e+00 5.22990e-01 5.23400e-01]\n",
      " [8.30000e+01 2.11639e+00 5.29800e-01 5.30040e-01]\n",
      " [8.40000e+01 2.14216e+00 5.36270e-01 5.36440e-01]\n",
      " [8.50000e+01 2.16851e+00 5.43000e-01 5.42860e-01]\n",
      " [8.60000e+01 2.19486e+00 5.49320e-01 5.49880e-01]\n",
      " [8.70000e+01 2.22096e+00 5.55640e-01 5.56370e-01]\n",
      " [8.80000e+01 2.24645e+00 5.61940e-01 5.62650e-01]\n",
      " [8.90000e+01 2.27360e+00 5.69130e-01 5.69480e-01]\n",
      " [9.00000e+01 2.30068e+00 5.76100e-01 5.76240e-01]\n",
      " [9.10000e+01 2.32581e+00 5.82570e-01 5.82270e-01]\n",
      " [9.20000e+01 2.35129e+00 5.88800e-01 5.88730e-01]\n",
      " [9.30000e+01 2.37698e+00 5.95240e-01 5.95040e-01]\n",
      " [9.40000e+01 2.40353e+00 6.01560e-01 6.01880e-01]\n",
      " [9.50000e+01 2.42999e+00 6.07950e-01 6.08530e-01]\n",
      " [9.60000e+01 2.45626e+00 6.14280e-01 6.14930e-01]\n",
      " [9.70000e+01 2.48219e+00 6.20480e-01 6.21830e-01]\n",
      " [9.80000e+01 2.50817e+00 6.27010e-01 6.28780e-01]\n",
      " [9.90000e+01 2.53438e+00 6.33600e-01 6.35210e-01]\n",
      " [1.00000e+02 2.55939e+00 6.40210e-01 6.41700e-01]\n",
      " [1.01000e+02 2.58581e+00 6.46760e-01 6.48340e-01]\n",
      " [1.02000e+02 2.61293e+00 6.53360e-01 6.55090e-01]\n",
      " [1.03000e+02 2.63938e+00 6.59750e-01 6.62140e-01]\n",
      " [1.04000e+02 2.66579e+00 6.66180e-01 6.68680e-01]\n",
      " [1.05000e+02 2.69235e+00 6.73110e-01 6.75600e-01]\n",
      " [1.06000e+02 2.72058e+00 6.80000e-01 6.82380e-01]\n",
      " [1.07000e+02 2.74909e+00 6.86910e-01 6.89400e-01]\n",
      " [1.08000e+02 2.77834e+00 6.94560e-01 6.96270e-01]\n",
      " [1.09000e+02 2.80934e+00 7.02390e-01 7.04040e-01]\n",
      " [1.10000e+02 2.83940e+00 7.09870e-01 7.11530e-01]\n",
      " [1.11000e+02 2.87169e+00 7.17620e-01 7.19350e-01]\n",
      " [1.12000e+02 2.90364e+00 7.26040e-01 7.27440e-01]\n",
      " [1.13000e+02 2.93740e+00 7.34280e-01 7.35430e-01]\n",
      " [1.14000e+02 2.97053e+00 7.42540e-01 7.43570e-01]\n",
      " [1.15000e+02 3.00390e+00 7.51070e-01 7.51940e-01]\n",
      " [1.16000e+02 3.03697e+00 7.59070e-01 7.60490e-01]\n",
      " [1.17000e+02 3.07018e+00 7.67160e-01 7.68570e-01]\n",
      " [1.18000e+02 3.10317e+00 7.75470e-01 7.76590e-01]\n",
      " [1.19000e+02 3.13630e+00 7.83470e-01 7.85100e-01]\n",
      " [1.20000e+02 3.16857e+00 7.91650e-01 7.93150e-01]\n",
      " [1.21000e+02 3.20060e+00 7.99700e-01 8.01000e-01]\n",
      " [1.22000e+02 3.23139e+00 8.07290e-01 8.08910e-01]\n",
      " [1.23000e+02 3.26255e+00 8.15040e-01 8.16650e-01]\n",
      " [1.24000e+02 3.29321e+00 8.22820e-01 8.24410e-01]\n",
      " [1.25000e+02 3.32322e+00 8.30350e-01 8.31620e-01]\n",
      " [1.26000e+02 3.35340e+00 8.37920e-01 8.39520e-01]\n",
      " [1.27000e+02 3.38259e+00 8.44880e-01 8.47210e-01]\n",
      " [1.28000e+02 3.41188e+00 8.52250e-01 8.54720e-01]\n",
      " [1.29000e+02 3.44058e+00 8.59530e-01 8.62410e-01]\n",
      " [1.30000e+02 3.46918e+00 8.66410e-01 8.69270e-01]\n",
      " [1.31000e+02 3.49750e+00 8.73820e-01 8.76580e-01]\n",
      " [1.32000e+02 3.52557e+00 8.80480e-01 8.83560e-01]\n",
      " [1.33000e+02 3.55466e+00 8.87610e-01 8.91060e-01]\n",
      " [1.34000e+02 3.58237e+00 8.94720e-01 8.97620e-01]\n",
      " [1.35000e+02 3.61045e+00 9.01560e-01 9.04950e-01]\n",
      " [1.36000e+02 3.63863e+00 9.08410e-01 9.12100e-01]\n",
      " [1.37000e+02 3.66673e+00 9.15310e-01 9.19190e-01]\n",
      " [1.38000e+02 3.69451e+00 9.22110e-01 9.26290e-01]\n",
      " [1.39000e+02 3.72208e+00 9.28920e-01 9.33690e-01]\n",
      " [1.40000e+02 3.74977e+00 9.35610e-01 9.41210e-01]\n",
      " [1.41000e+02 3.77754e+00 9.42550e-01 9.48010e-01]\n",
      " [1.42000e+02 3.80562e+00 9.49690e-01 9.54910e-01]\n",
      " [1.43000e+02 3.83433e+00 9.57060e-01 9.61820e-01]\n",
      " [1.44000e+02 3.86258e+00 9.64110e-01 9.68490e-01]\n",
      " [1.45000e+02 3.89009e+00 9.70980e-01 9.75160e-01]\n",
      " [1.46000e+02 3.91903e+00 9.78660e-01 9.82210e-01]\n",
      " [1.47000e+02 3.94710e+00 9.85740e-01 9.89360e-01]\n",
      " [1.48000e+02 3.97460e+00 9.92990e-01 9.96250e-01]\n",
      " [1.49000e+02 4.00158e+00 9.99300e-01 1.00293e+00]\n",
      " [1.50000e+02 4.02928e+00 1.00634e+00 1.00971e+00]\n",
      " [1.51000e+02 4.05810e+00 1.01363e+00 1.01693e+00]\n",
      " [1.52000e+02 4.08747e+00 1.02106e+00 1.02374e+00]\n",
      " [1.53000e+02 4.11523e+00 1.02802e+00 1.03085e+00]\n",
      " [1.54000e+02 4.14307e+00 1.03493e+00 1.03755e+00]\n",
      " [1.55000e+02 4.16978e+00 1.04182e+00 1.04412e+00]\n",
      " [1.56000e+02 4.19698e+00 1.04836e+00 1.05121e+00]\n",
      " [1.57000e+02 4.22530e+00 1.05549e+00 1.05826e+00]\n",
      " [1.58000e+02 4.25324e+00 1.06252e+00 1.06490e+00]\n",
      " [1.59000e+02 4.28183e+00 1.06974e+00 1.07152e+00]\n",
      " [1.60000e+02 4.31060e+00 1.07686e+00 1.07891e+00]\n",
      " [1.61000e+02 4.33909e+00 1.08393e+00 1.08623e+00]\n",
      " [1.62000e+02 4.36753e+00 1.09097e+00 1.09346e+00]\n",
      " [1.63000e+02 4.39646e+00 1.09863e+00 1.10088e+00]\n",
      " [1.64000e+02 4.42405e+00 1.10595e+00 1.10777e+00]\n",
      " [1.65000e+02 4.45192e+00 1.11266e+00 1.11449e+00]\n",
      " [1.66000e+02 4.48112e+00 1.12028e+00 1.12200e+00]\n",
      " [1.67000e+02 4.51231e+00 1.12791e+00 1.12983e+00]\n",
      " [1.68000e+02 4.54172e+00 1.13535e+00 1.13697e+00]\n",
      " [1.69000e+02 4.56935e+00 1.14179e+00 1.14419e+00]\n",
      " [1.70000e+02 4.59885e+00 1.14966e+00 1.15169e+00]\n",
      " [1.71000e+02 4.62907e+00 1.15685e+00 1.15969e+00]\n",
      " [1.72000e+02 4.65801e+00 1.16430e+00 1.16690e+00]\n",
      " [1.73000e+02 4.68817e+00 1.17180e+00 1.17415e+00]\n",
      " [1.74000e+02 4.71788e+00 1.17960e+00 1.18128e+00]\n",
      " [1.75000e+02 4.74780e+00 1.18749e+00 1.18930e+00]\n",
      " [1.76000e+02 4.77787e+00 1.19517e+00 1.19685e+00]\n",
      " [1.77000e+02 4.80853e+00 1.20302e+00 1.20457e+00]\n",
      " [1.78000e+02 4.83849e+00 1.21025e+00 1.21207e+00]\n",
      " [1.79000e+02 4.86823e+00 1.21744e+00 1.21948e+00]\n",
      " [1.80000e+02 4.89808e+00 1.22457e+00 1.22704e+00]\n",
      " [1.81000e+02 4.92823e+00 1.23243e+00 1.23463e+00]\n",
      " [1.82000e+02 4.95778e+00 1.24009e+00 1.24148e+00]\n",
      " [1.83000e+02 4.98753e+00 1.24705e+00 1.24921e+00]\n",
      " [1.84000e+02 5.01557e+00 1.25414e+00 1.25637e+00]\n",
      " [1.85000e+02 5.04426e+00 1.26126e+00 1.26377e+00]\n",
      " [1.86000e+02 5.07276e+00 1.26813e+00 1.27119e+00]\n",
      " [1.87000e+02 5.10237e+00 1.27567e+00 1.27846e+00]\n",
      " [1.88000e+02 5.13136e+00 1.28281e+00 1.28569e+00]\n",
      " [1.89000e+02 5.16080e+00 1.28987e+00 1.29368e+00]\n",
      " [1.90000e+02 5.18940e+00 1.29731e+00 1.30084e+00]\n",
      " [1.91000e+02 5.21781e+00 1.30412e+00 1.30802e+00]\n",
      " [1.92000e+02 5.24658e+00 1.31132e+00 1.31519e+00]\n",
      " [1.93000e+02 5.27535e+00 1.31853e+00 1.32220e+00]\n",
      " [1.94000e+02 5.30396e+00 1.32551e+00 1.32949e+00]\n",
      " [1.95000e+02 5.33264e+00 1.33273e+00 1.33656e+00]\n",
      " [1.96000e+02 5.36073e+00 1.33972e+00 1.34362e+00]\n",
      " [1.97000e+02 5.39006e+00 1.34696e+00 1.35073e+00]\n",
      " [1.98000e+02 5.41777e+00 1.35375e+00 1.35822e+00]\n",
      " [1.99000e+02 5.44516e+00 1.36060e+00 1.36462e+00]\n",
      " [2.00000e+02 5.47431e+00 1.36824e+00 1.37162e+00]]\n"
     ]
    }
   ],
   "source": [
    "df = averageRate(200,100000)\n",
    "print (df)"
   ]
  },
  {
   "cell_type": "code",
   "execution_count": 6,
   "id": "acquired-emerald",
   "metadata": {},
   "outputs": [],
   "source": [
    "from sklearn import linear_model"
   ]
  },
  {
   "cell_type": "code",
   "execution_count": 7,
   "id": "short-observation",
   "metadata": {},
   "outputs": [],
   "source": [
    "model = linear_model.LinearRegression()\n"
   ]
  },
  {
   "cell_type": "code",
   "execution_count": 8,
   "id": "forward-validation",
   "metadata": {},
   "outputs": [],
   "source": [
    "x = df[:,0].reshape(-1,1)"
   ]
  },
  {
   "cell_type": "code",
   "execution_count": 9,
   "id": "literary-poker",
   "metadata": {},
   "outputs": [],
   "source": [
    "y = df[:,1]/df[:,0]"
   ]
  },
  {
   "cell_type": "code",
   "execution_count": 10,
   "id": "interesting-sharing",
   "metadata": {},
   "outputs": [
    {
     "data": {
      "text/plain": [
       "LinearRegression()"
      ]
     },
     "execution_count": 10,
     "metadata": {},
     "output_type": "execute_result"
    }
   ],
   "source": [
    "model.fit(x,y)"
   ]
  },
  {
   "cell_type": "code",
   "execution_count": 11,
   "id": "reduced-temple",
   "metadata": {},
   "outputs": [],
   "source": [
    "import matplotlib.pyplot as plt"
   ]
  },
  {
   "cell_type": "code",
   "execution_count": 15,
   "id": "positive-estimate",
   "metadata": {},
   "outputs": [
    {
     "data": {
      "image/png": "[encoded data removed]",
      "text/plain": [
       "<Figure size 432x288 with 1 Axes>"
      ]
     },
     "metadata": {
      "needs_background": "light"
     },
     "output_type": "display_data"
    }
   ],
   "source": [
    "plt.plot(x,y)\n",
    "plt.axis([0,100,0,0.04])\n",
    "plt.show()"
   ]
  },
  {
   "cell_type": "code",
   "execution_count": 17,
   "id": "measured-symbol",
   "metadata": {},
   "outputs": [
    {
     "name": "stdout",
     "output_type": "stream",
     "text": [
      "[200.        5.47431   1.36824   1.37162]\n"
     ]
    }
   ],
   "source": [
    "print(df[199])"
   ]
  },
  {
   "cell_type": "code",
   "execution_count": null,
   "id": "tutorial-subcommittee",
   "metadata": {},
   "outputs": [],
   "source": []
  }
 ],
 "metadata": {
  "kernelspec": {
   "display_name": "Python 3",
   "language": "python",
   "name": "python3"
  },
  "language_info": {
   "codemirror_mode": {
    "name": "ipython",
    "version": 3
   },
   "file_extension": ".py",
   "mimetype": "text/x-python",
   "name": "python",
   "nbconvert_exporter": "python",
   "pygments_lexer": "ipython3",
   "version": "3.7.5"
  }
 },
 "nbformat": 4,
 "nbformat_minor": 5
}
